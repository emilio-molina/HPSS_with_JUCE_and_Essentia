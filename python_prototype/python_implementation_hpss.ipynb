{
 "cells": [
  {
   "cell_type": "code",
   "execution_count": null,
   "metadata": {},
   "outputs": [],
   "source": [
    "from IPython.display import Audio\n",
    "import librosa as lr\n",
    "import numpy as np\n",
    "import matplotlib.pyplot as plt\n",
    "import scipy"
   ]
  },
  {
   "cell_type": "code",
   "execution_count": null,
   "metadata": {},
   "outputs": [],
   "source": [
    "x, sr = lr.load('BT_Pipes_2.wav', sr=None, mono=False)\n",
    "print x.shape"
   ]
  },
  {
   "cell_type": "code",
   "execution_count": null,
   "metadata": {},
   "outputs": [],
   "source": [
    "Audio(x, rate=sr)"
   ]
  },
  {
   "cell_type": "code",
   "execution_count": null,
   "metadata": {},
   "outputs": [],
   "source": [
    "X_l = lr.stft(x[0, :], n_fft=2048, hop_length=512)\n",
    "X_r = lr.stft(x[1, :], n_fft=2048, hop_length=512)"
   ]
  },
  {
   "cell_type": "markdown",
   "metadata": {},
   "source": [
    "# Add symmetry to vector (non vectorized implementation)\n",
    "\n",
    "Needed for later median_filtering"
   ]
  },
  {
   "cell_type": "code",
   "execution_count": null,
   "metadata": {},
   "outputs": [],
   "source": [
    "def add_symmetry(a, wsize=13):\n",
    "    n = len(a)\n",
    "    out = []\n",
    "    for i in range(wsize + 1, 0, -1):\n",
    "        out.append(a[i - 1])\n",
    "    for i in range(n):\n",
    "        out.append(a[i])\n",
    "    for i in range(n, n - wsize + 1, -1):\n",
    "        out.append(a[i - 1])\n",
    "    return np.array(out)"
   ]
  },
  {
   "cell_type": "code",
   "execution_count": null,
   "metadata": {},
   "outputs": [],
   "source": [
    "a = np.array(range(40))\n",
    "wsize = 13\n",
    "b = np.concatenate([a[wsize::-1], a, a[:-wsize:-1]])\n",
    "print b\n",
    "assert all(add_symmetry(a, wsize) == b)"
   ]
  },
  {
   "cell_type": "markdown",
   "metadata": {},
   "source": [
    "# My implementation of HPSS using external median-filter module\n",
    "\n",
    "Because `scipy.ndimage.median_filter` is used in librosa HPSS functions.\n",
    "\n",
    "I've installed this one in the virtualenv:\n",
    "https://github.com/craffel/median-filter"
   ]
  },
  {
   "cell_type": "code",
   "execution_count": null,
   "metadata": {},
   "outputs": [],
   "source": [
    "import median_filter"
   ]
  },
  {
   "cell_type": "code",
   "execution_count": null,
   "metadata": {},
   "outputs": [],
   "source": [
    "X_l_m, X_l_p = lr.core.magphase(X_l)"
   ]
  },
  {
   "cell_type": "code",
   "execution_count": null,
   "metadata": {},
   "outputs": [],
   "source": [
    "X_l_m = X_l_m.astype(np.double)"
   ]
  },
  {
   "cell_type": "code",
   "execution_count": null,
   "metadata": {},
   "outputs": [],
   "source": [
    "def horizontal_filtering(S, win_harm=321):\n",
    "    harm = []\n",
    "    for i in range(S.shape[0]):\n",
    "        row = np.array(add_symmetry(S[i, :], win_harm))\n",
    "        median_filter.filter(row, win_harm)\n",
    "        harm.append(row[win_harm+1:-win_harm+1])\n",
    "    return np.array(harm)"
   ]
  },
  {
   "cell_type": "code",
   "execution_count": null,
   "metadata": {},
   "outputs": [],
   "source": [
    "my_harm = horizontal_filtering(X_l_m, 321)\n",
    "harm = scipy.ndimage.median_filter(X_l_m, size=(1, 321), mode='reflect')"
   ]
  },
  {
   "cell_type": "code",
   "execution_count": null,
   "metadata": {},
   "outputs": [],
   "source": [
    "assert np.sum(my_harm - harm) == 0.0\n",
    "# Great, they are equal."
   ]
  },
  {
   "cell_type": "code",
   "execution_count": null,
   "metadata": {},
   "outputs": [],
   "source": [
    "def vertical_filtering(S, win_perc=321):\n",
    "    S = S.T\n",
    "    perc = []\n",
    "    for i in range(S.shape[0]):\n",
    "        col = np.array(add_symmetry(S[i, :], win_perc))\n",
    "        median_filter.filter(col, win_perc)\n",
    "        perc.append(col[win_perc+1:-win_perc+1])\n",
    "    return np.array(perc).T"
   ]
  },
  {
   "cell_type": "code",
   "execution_count": null,
   "metadata": {},
   "outputs": [],
   "source": [
    "my_perc = vertical_filtering(X_l_m, 321)\n",
    "perc = scipy.ndimage.median_filter(X_l_m, size=(321, 1), mode='reflect')"
   ]
  },
  {
   "cell_type": "code",
   "execution_count": null,
   "metadata": {},
   "outputs": [],
   "source": [
    "assert np.sum(my_perc - perc) == 0.0\n",
    "# Great, they are equal."
   ]
  },
  {
   "cell_type": "code",
   "execution_count": null,
   "metadata": {},
   "outputs": [],
   "source": [
    "def my_soft_mask(X, X_ref, power=1, split_zeros=False):\n",
    "    mask = np.empty_like(X)\n",
    "    for i in range(X.shape[0]):\n",
    "        for j in range(X.shape[1]):\n",
    "            x = X[i, j]\n",
    "            x_ref = X_ref[i, j]\n",
    "            z = max(x, x_ref)\n",
    "            if z < 1e-8:\n",
    "                if split_zeros:\n",
    "                    m = 0.5\n",
    "                else:\n",
    "                    m = 0.0\n",
    "            else:\n",
    "                m = (x / z) ** power\n",
    "                rm = (x_ref / z) ** power\n",
    "                m = m / (m + rm)\n",
    "            mask[i, j] = m\n",
    "    return mask\n"
   ]
  },
  {
   "cell_type": "code",
   "execution_count": null,
   "metadata": {},
   "outputs": [],
   "source": [
    "def my_hpss(S, win_harm=31, win_perc=31, power=2.0, margin_harm=1.0, margin_perc=1.0):\n",
    "    my_harm = horizontal_filtering(S, win_harm)\n",
    "    my_perc = vertical_filtering(S, win_perc)\n",
    "    split_zeros = (margin_harm == 1 and margin_perc == 1)\n",
    "    mask_harm = my_soft_mask(my_harm, my_perc * margin_harm,\n",
    "                             power=power, split_zeros=split_zeros)\n",
    "    mask_perc = my_soft_mask(my_perc, my_harm * margin_perc,\n",
    "                             power=power, split_zeros=split_zeros)\n",
    "    return ((S * mask_harm), (S * mask_perc))"
   ]
  },
  {
   "cell_type": "code",
   "execution_count": null,
   "metadata": {},
   "outputs": [],
   "source": [
    "H, P = lr.decompose.hpss(X_l_m, (131, 51), power=2.5, mask=False, margin=(1.0, 1.0))"
   ]
  },
  {
   "cell_type": "code",
   "execution_count": null,
   "metadata": {},
   "outputs": [],
   "source": [
    "myH, myP = my_hpss(X_l_m, 131, 51, 2.5, 1.0, 1.0)"
   ]
  },
  {
   "cell_type": "code",
   "execution_count": null,
   "metadata": {},
   "outputs": [],
   "source": [
    "assert np.sum(H - myH) == 0.0\n",
    "assert np.sum(P - myP) == 0.0\n",
    "# Great they are equal"
   ]
  },
  {
   "cell_type": "markdown",
   "metadata": {},
   "source": [
    "## ISTFT"
   ]
  },
  {
   "cell_type": "code",
   "execution_count": null,
   "metadata": {},
   "outputs": [],
   "source": [
    "y_h = lr.istft(myH * np.exp(1j*X_l_p))\n",
    "lr.output.write_wav('harmonic.wav', y_h, 44100)"
   ]
  },
  {
   "cell_type": "code",
   "execution_count": null,
   "metadata": {},
   "outputs": [],
   "source": [
    "y_p = lr.istft(myP * np.exp(1j*X_l_p))\n",
    "lr.output.write_wav('percussive.wav', y_p, 44100)"
   ]
  },
  {
   "cell_type": "code",
   "execution_count": null,
   "metadata": {},
   "outputs": [],
   "source": [
    "x_istft = lr.istft(X_l_m * np.exp(1j*X_l_p))\n",
    "lr.output.write_wav('original_istft.wav', x_istft, 44100)"
   ]
  },
  {
   "cell_type": "markdown",
   "metadata": {},
   "source": [
    "# Diff with C++ version"
   ]
  },
  {
   "cell_type": "code",
   "execution_count": null,
   "metadata": {},
   "outputs": [],
   "source": [
    "import numpy as np\n",
    "def load_file(path):\n",
    "    x = np.fromfile(path, dtype=np.int32)\n",
    "    size_x = (x[0], x[1])\n",
    "    x = np.fromfile(path, dtype=np.float32)\n",
    "    x = x[2:]\n",
    "    x = x.reshape(size_x)\n",
    "    return x"
   ]
  },
  {
   "cell_type": "code",
   "execution_count": null,
   "metadata": {},
   "outputs": [],
   "source": [
    "x = load_file('./X.dat')\n",
    "x_harm = load_file('./Xharm.dat')\n",
    "x_perc = load_file('./Xperc.dat')"
   ]
  },
  {
   "cell_type": "code",
   "execution_count": null,
   "metadata": {},
   "outputs": [],
   "source": []
  },
  {
   "cell_type": "code",
   "execution_count": null,
   "metadata": {},
   "outputs": [],
   "source": [
    "plt.figure()\n",
    "plt.imshow(np.log10(x[:100].T), origin='lower', aspect='auto')\n",
    "plt.tight_layout()\n",
    "plt.show()"
   ]
  },
  {
   "cell_type": "code",
   "execution_count": null,
   "metadata": {},
   "outputs": [],
   "source": [
    "plt.figure()\n",
    "plt.imshow(np.log10(x_harm[:100].T), origin='lower', aspect='auto')\n",
    "plt.tight_layout()\n",
    "plt.show()"
   ]
  },
  {
   "cell_type": "code",
   "execution_count": null,
   "metadata": {},
   "outputs": [],
   "source": [
    "plt.figure()\n",
    "plt.imshow(np.log10(x_perc[:100].T), origin='lower', aspect='auto')\n",
    "plt.tight_layout()\n",
    "plt.show()"
   ]
  },
  {
   "cell_type": "code",
   "execution_count": null,
   "metadata": {},
   "outputs": [],
   "source": [
    "plt.figure()\n",
    "plt.imshow(np.abs(X_r[:, :100]), origin='lower', aspect='auto')\n",
    "plt.tight_layout()\n",
    "plt.show()"
   ]
  },
  {
   "cell_type": "code",
   "execution_count": null,
   "metadata": {},
   "outputs": [],
   "source": [
    "plt.figure()\n",
    "plt.imshow(np.log10(X_l_m[:, :100]), origin='lower', aspect='auto')\n",
    "plt.tight_layout()\n",
    "plt.show()"
   ]
  },
  {
   "cell_type": "code",
   "execution_count": null,
   "metadata": {},
   "outputs": [],
   "source": [
    "plt.figure()\n",
    "plt.imshow(np.log10(my_harm[:, :100]), origin='lower', aspect='auto')\n",
    "plt.tight_layout()\n",
    "plt.show()"
   ]
  },
  {
   "cell_type": "code",
   "execution_count": null,
   "metadata": {},
   "outputs": [],
   "source": [
    "plt.figure()\n",
    "plt.imshow(np.log10(my_perc[:, :100]), origin='lower', aspect='auto')\n",
    "plt.tight_layout()\n",
    "plt.show()"
   ]
  },
  {
   "cell_type": "code",
   "execution_count": null,
   "metadata": {},
   "outputs": [],
   "source": []
  }
 ],
 "metadata": {
  "kernelspec": {
   "display_name": "Python 2",
   "language": "python",
   "name": "python2"
  },
  "language_info": {
   "codemirror_mode": {
    "name": "ipython",
    "version": 2
   },
   "file_extension": ".py",
   "mimetype": "text/x-python",
   "name": "python",
   "nbconvert_exporter": "python",
   "pygments_lexer": "ipython2",
   "version": "2.7.15"
  }
 },
 "nbformat": 4,
 "nbformat_minor": 2
}
